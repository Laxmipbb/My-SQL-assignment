{
 "cells": [
  {
   "cell_type": "code",
   "execution_count": 1,
   "id": "0b42e2f8-aa16-470c-8b3c-e4d9099d46d2",
   "metadata": {},
   "outputs": [
    {
     "data": {
      "text/plain": [
       "'A database is an organized collection of structured information or data ,typically stored electronically in a comouter system.\\n\\nDifference between SQL and NoSQL - \\nSQL - (1) it is relational database management system.\\n      (2) structured data can be stored in tables.\\n      (3) the schemas are static.\\n      (4) schemas are rigid and bound to relationships.\\n      (5) helpful to design complex queries.\\n      \\nNoSQL- (1) it is used for non relational distributeb database system.\\n       (2) using JSON data ,unstructured data can be stored.\\n       (3) the schemas are dynamic.\\n       (4) schemas are non rigid, they are flexible.\\n       (5) no interface to prepare complex query.'"
      ]
     },
     "execution_count": 1,
     "metadata": {},
     "output_type": "execute_result"
    }
   ],
   "source": [
    "\"\"\"A database is an organized collection of structured information or data ,typically stored electronically in a comouter system.\n",
    "\n",
    "Difference between SQL and NoSQL - \n",
    "SQL - (1) it is relational database management system.\n",
    "      (2) structured data can be stored in tables.\n",
    "      (3) the schemas are static.\n",
    "      (4) schemas are rigid and bound to relationships.\n",
    "      (5) helpful to design complex queries.\n",
    "      \n",
    "NoSQL- (1) it is used for non relational distributeb database system.\n",
    "       (2) using JSON data ,unstructured data can be stored.\n",
    "       (3) the schemas are dynamic.\n",
    "       (4) schemas are non rigid, they are flexible.\n",
    "       (5) no interface to prepare complex query.\"\"\""
   ]
  },
  {
   "cell_type": "code",
   "execution_count": 2,
   "id": "51ebfb4e-5044-4937-82f6-7c8ec3e75857",
   "metadata": {},
   "outputs": [
    {
     "data": {
      "text/plain": [
       "'DDL - Data Defination Language.\\nThis sub_language deals with objects of database like table, indices and users.\\n\\nCREATE - This command is used to create a new table in SQL.\\nThe user has to give information like table name, column name, and their datatypes.\\nEXAMPLE -\\nCREATE TABLE Student_info\\n(\\nCollage_Id number(2),\\nCollage_name varchar(30),\\nBranch varchar(10)\\n);\\n\\nALTER - This command is used to add ,delete or change columns in the existing tables.\\nEXAMPLE-\\nALTER TABLE Student_info\\nADD CGPA number;\\n\\nTURNCATE - This command is used to remove all rows from the table, but the structure of the table still exists.\\nEXAMPLE -\\nTURNCATE TABLE Student_info;\\n\\nDROP - This command is used to remove an existing table along with its structure from the database.\\nEXAMPLE - \\nDROP TABLE Student_info;'"
      ]
     },
     "execution_count": 2,
     "metadata": {},
     "output_type": "execute_result"
    }
   ],
   "source": [
    "\"\"\"DDL - Data Defination Language.\n",
    "This sub_language deals with objects of database like table, indices and users.\n",
    "\n",
    "CREATE - This command is used to create a new table in SQL.\n",
    "The user has to give information like table name, column name, and their datatypes.\n",
    "EXAMPLE -\n",
    "CREATE TABLE Student_info\n",
    "(\n",
    "Collage_Id number(2),\n",
    "Collage_name varchar(30),\n",
    "Branch varchar(10)\n",
    ");\n",
    "\n",
    "ALTER - This command is used to add ,delete or change columns in the existing tables.\n",
    "EXAMPLE-\n",
    "ALTER TABLE Student_info\n",
    "ADD CGPA number;\n",
    "\n",
    "TURNCATE - This command is used to remove all rows from the table, but the structure of the table still exists.\n",
    "EXAMPLE -\n",
    "TURNCATE TABLE Student_info;\n",
    "\n",
    "DROP - This command is used to remove an existing table along with its structure from the database.\n",
    "EXAMPLE - \n",
    "DROP TABLE Student_info;\"\"\"\n",
    "\n"
   ]
  },
  {
   "cell_type": "code",
   "execution_count": 3,
   "id": "b27d36fd-7321-493a-9c6e-5eca7a9cec1f",
   "metadata": {},
   "outputs": [
    {
     "data": {
      "text/plain": [
       "\"DML - it is a Data Manipulation Language, which include SQL command that deal with modifying data in a database.\\n INSERT -\\n This cammand can be used to insert data into a row of table.\\n EXAMPLE-\\n INSERT INTO Student (Stu_Name, DOB, Phone Mail)\\n VALUES('Phoebe', '1998-05-26', 7584567321, 'user@xyz.com');\\n \\n UPDATE - \\n The UPDATE statement cam be used to update single or multiple columns on the basis of our specific needs.\\n EXAMPLE-\\n UPDATE Student SET Phone = 3674827728299\\n WHERE Stu_Name = 'Phoebe',\\n \\n DELETE -\\n The delete statement can be used inSQL to delete various records from a given table.\\n EXAMPLE - \\n DELETE FROM Student WHERE Stu_Name = 'phoebe'.\""
      ]
     },
     "execution_count": 3,
     "metadata": {},
     "output_type": "execute_result"
    }
   ],
   "source": [
    "\"\"\"DML - it is a Data Manipulation Language, which include SQL command that deal with modifying data in a database.\n",
    " INSERT -\n",
    " This cammand can be used to insert data into a row of table.\n",
    " EXAMPLE-\n",
    " INSERT INTO Student (Stu_Name, DOB, Phone Mail)\n",
    " VALUES('Phoebe', '1998-05-26', 7584567321, 'user@xyz.com');\n",
    " \n",
    " UPDATE - \n",
    " The UPDATE statement cam be used to update single or multiple columns on the basis of our specific needs.\n",
    " EXAMPLE-\n",
    " UPDATE Student SET Phone = 3674827728299\n",
    " WHERE Stu_Name = 'Phoebe',\n",
    " \n",
    " DELETE -\n",
    " The delete statement can be used inSQL to delete various records from a given table.\n",
    " EXAMPLE - \n",
    " DELETE FROM Student WHERE Stu_Name = 'phoebe'.\"\"\"\n",
    " \n"
   ]
  },
  {
   "cell_type": "code",
   "execution_count": 4,
   "id": "751d0d39-d446-4a74-936b-5e1e80596712",
   "metadata": {},
   "outputs": [
    {
     "data": {
      "text/plain": [
       "'DQL - Data Query Language.\\nThe goal of the DQL commands is to return a schema relation on the basis of query supplied to them.\\n\\nSELECT statement on a table or collection of table is compiled into a new temporary table.\\nEXAMPLE - \\nSELECT Stu_Name FROM  Student WHERE\\nPhone = 928637541786;'"
      ]
     },
     "execution_count": 4,
     "metadata": {},
     "output_type": "execute_result"
    }
   ],
   "source": [
    "\"\"\"DQL - Data Query Language.\n",
    "The goal of the DQL commands is to return a schema relation on the basis of query supplied to them.\n",
    "\n",
    "SELECT statement on a table or collection of table is compiled into a new temporary table.\n",
    "EXAMPLE - \n",
    "SELECT Stu_Name FROM  Student WHERE\n",
    "Phone = 928637541786;\"\"\""
   ]
  },
  {
   "cell_type": "code",
   "execution_count": 5,
   "id": "626df09c-8b7b-4226-b022-b2ea48d24d27",
   "metadata": {},
   "outputs": [
    {
     "data": {
      "text/plain": [
       "\" Primary key - it focuses on uniqueness of the table. it assures the value os specific column is unique.\\nTable allow only one primary key.\\nThe primary key doesn't allow null values.\\nIt can be identify the record uniquely in the database table.\\nIts restriction can be completely defined on the temporary table.\\n\\nForeign key - it is used to build a relationship between the two tables.\\nTable allow more than one foreign key.\\nIt allow accepts multiple null values.\\nThe value can be deleted from the child table.\\nIts restriction cannot be defined on the global or local temporary table.\""
      ]
     },
     "execution_count": 5,
     "metadata": {},
     "output_type": "execute_result"
    }
   ],
   "source": [
    "\"\"\" Primary key - it focuses on uniqueness of the table. it assures the value os specific column is unique.\n",
    "Table allow only one primary key.\n",
    "The primary key doesn't allow null values.\n",
    "It can be identify the record uniquely in the database table.\n",
    "Its restriction can be completely defined on the temporary table.\n",
    "\n",
    "Foreign key - it is used to build a relationship between the two tables.\n",
    "Table allow more than one foreign key.\n",
    "It allow accepts multiple null values.\n",
    "The value can be deleted from the child table.\n",
    "Its restriction cannot be defined on the global or local temporary table.\"\"\""
   ]
  },
  {
   "cell_type": "code",
   "execution_count": 7,
   "id": "6a03837c-1938-4795-b42b-70dc06a69e9b",
   "metadata": {},
   "outputs": [
    {
     "data": {
      "text/plain": [
       "'import mysql.connector\\n# import mysql.connector\\n#create user \\'user\\'@\\'%\\' identified by \\'password\\'\\nmydb = mysql.connector.connect(\\n    host= \"localhost\",\\n    user=\"password\"\\n)\\nprint(mydb)\\nmycursor = mydb.cursor()\\nmycursor.execute(\"SHOW DATABASE\")\\nfor x in mycursor:\\n    print(x)\\n    \\ncursor.execute(operation,params =  None, multi false)\\niterator = cursor.execute(operation, params =none, multi = true)\\n\\nThis method executes the given database operation(query or command).\\nThe parameters found in the touple or dictonary params are bound to the variable in the operation.\\nSpecify variables using %s or %(name)s parameter style (that is ,using format or pyformat style).execute() returns an iterator if multi is true.'"
      ]
     },
     "execution_count": 7,
     "metadata": {},
     "output_type": "execute_result"
    }
   ],
   "source": [
    "\"\"\"import mysql.connector\n",
    "# import mysql.connector\n",
    "#create user 'user'@'%' identified by 'password'\n",
    "mydb = mysql.connector.connect(\n",
    "    host= \"localhost\",\n",
    "    user=\"password\"\n",
    ")\n",
    "print(mydb)\n",
    "mycursor = mydb.cursor()\n",
    "mycursor.execute(\"SHOW DATABASE\")\n",
    "for x in mycursor:\n",
    "    print(x)\n",
    "    \n",
    "cursor.execute(operation,params =  None, multi false)\n",
    "iterator = cursor.execute(operation, params =none, multi = true)\n",
    "\n",
    "This method executes the given database operation(query or command).\n",
    "The parameters found in the touple or dictonary params are bound to the variable in the operation.\n",
    "Specify variables using %s or %(name)s parameter style (that is ,using format or pyformat style).execute() returns an iterator if multi is true.\"\"\""
   ]
  },
  {
   "cell_type": "code",
   "execution_count": 9,
   "id": "fc49f78f-7611-49eb-ba04-fc110532a29b",
   "metadata": {},
   "outputs": [
    {
     "ename": "SyntaxError",
     "evalue": "invalid syntax (727149446.py, line 1)",
     "output_type": "error",
     "traceback": [
      "\u001b[0;36m  Cell \u001b[0;32mIn[9], line 1\u001b[0;36m\u001b[0m\n\u001b[0;31m    Select *\u001b[0m\n\u001b[0m            ^\u001b[0m\n\u001b[0;31mSyntaxError\u001b[0m\u001b[0;31m:\u001b[0m invalid syntax\n"
     ]
    }
   ],
   "source": [
    "\"\"\"\n",
    "\n",
    "Select *\n",
    "FROM dbo.DimProductSubCategory DimSC\n",
    "INNER JOIN dbo DimProductCategory DimPC\n",
    "ON DimPC.ProductCategoryKey = DimSC.ProductCategoryKey\n",
    "WHERE Left (DimSC.EnglishProductSubCategoryName,1) = 'B'\n",
    "Group by DimPC.EnglishProductCategoryName\n",
    "Having Count(*) > 1\n",
    "Order By DimPC.EnglishProductSubcategoryName\"\"\"\n",
    "\n"
   ]
  },
  {
   "cell_type": "code",
   "execution_count": null,
   "id": "059dcda5-e2dd-45ab-abc8-ad1e66b25f49",
   "metadata": {},
   "outputs": [],
   "source": []
  }
 ],
 "metadata": {
  "kernelspec": {
   "display_name": "Python 3 (ipykernel)",
   "language": "python",
   "name": "python3"
  },
  "language_info": {
   "codemirror_mode": {
    "name": "ipython",
    "version": 3
   },
   "file_extension": ".py",
   "mimetype": "text/x-python",
   "name": "python",
   "nbconvert_exporter": "python",
   "pygments_lexer": "ipython3",
   "version": "3.10.8"
  }
 },
 "nbformat": 4,
 "nbformat_minor": 5
}
